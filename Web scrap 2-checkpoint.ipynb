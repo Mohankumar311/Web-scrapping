{
 "cells": [
  {
   "cell_type": "code",
   "execution_count": 2,
   "id": "dc42691a",
   "metadata": {},
   "outputs": [
    {
     "name": "stdout",
     "output_type": "stream",
     "text": [
      "[<div class=\"m-srp-card__tuple\" id=\"lndmrkTag_369947grade2\"><div class=\"m-srp-card__tuple__flex\"><div class=\"m-srp-card__tuple__item\"><span class=\"m-srp-card__tuple__icon m-srp-card__tuple__icon--19202\"></span>7.3 Km from Thirumangalam Metro Station </div><div class=\"m-srp-card__tuple__item\"><span class=\"m-srp-card__tuple__icon m-srp-card__tuple__icon--19201\"></span>1.8 Km from Commerzone </div><div class=\"m-srp-card__tuple__item\"><span class=\"m-srp-card__tuple__icon m-srp-card__tuple__icon--19210\"></span>5.8 Km from Koyambedu Metro Station </div></div></div>, <div class=\"m-srp-card__tuple\" id=\"lndmrkTag_361075grade2\"><div class=\"m-srp-card__tuple__flex\"><div class=\"m-srp-card__tuple__item\"><span class=\"m-srp-card__tuple__icon m-srp-card__tuple__icon--19202\"></span>16.9 Km from Thirumangalam Metro Station </div><div class=\"m-srp-card__tuple__item\"><span class=\"m-srp-card__tuple__icon m-srp-card__tuple__icon--19201\"></span>7.1 Km from New Tidel Park </div><div class=\"m-srp-card__tuple__item\"><span class=\"m-srp-card__tuple__icon m-srp-card__tuple__icon--19210\"></span>16.9 Km from Thirumangalam Metro Station </div></div></div>, <div class=\"m-srp-card__tuple\" id=\"lndmrkTag_361157grade2\"><div class=\"m-srp-card__tuple__flex\"><div class=\"m-srp-card__tuple__item\"><span class=\"m-srp-card__tuple__icon m-srp-card__tuple__icon--19202\"></span>14.4 Km from Thirumangalam Metro Station </div><div class=\"m-srp-card__tuple__item\"><span class=\"m-srp-card__tuple__icon m-srp-card__tuple__icon--19201\"></span>1.2 Km from Maraica Industries </div><div class=\"m-srp-card__tuple__item\"><span class=\"m-srp-card__tuple__icon m-srp-card__tuple__icon--19210\"></span>2.2 Km from Taramani Metro Station </div></div></div>, <div class=\"m-srp-card__tuple\" id=\"lndmrkTag_358703grade2\"><div class=\"m-srp-card__tuple__flex\"><div class=\"m-srp-card__tuple__item\"><span class=\"m-srp-card__tuple__icon m-srp-card__tuple__icon--19202\"></span>33.0 Km from Thirumangalam Metro Station </div><div class=\"m-srp-card__tuple__item\"><span class=\"m-srp-card__tuple__icon m-srp-card__tuple__icon--19201\"></span>0.4 Km from Fourrts India Laboratories Pvt Ltd </div><div class=\"m-srp-card__tuple__item\"><span class=\"m-srp-card__tuple__icon m-srp-card__tuple__icon--19210\"></span>18.2 Km from Keelkattalai Metro Station </div></div></div>, <div class=\"m-srp-card__tuple\" id=\"lndmrkTag_361135grade2\"><div class=\"m-srp-card__tuple__flex\"><div class=\"m-srp-card__tuple__item\"><span class=\"m-srp-card__tuple__icon m-srp-card__tuple__icon--19202\"></span>50.9 Km from Thirumangalam Metro Station </div><div class=\"m-srp-card__tuple__item\"><span class=\"m-srp-card__tuple__icon m-srp-card__tuple__icon--19201\"></span>2.0 Km from Muthurajvi Traders </div><div class=\"m-srp-card__tuple__item\"><span class=\"m-srp-card__tuple__icon m-srp-card__tuple__icon--19210\"></span>29.9 Km from Krishna Nagar Metro Station </div></div></div>, <div class=\"m-srp-card__tuple\" id=\"lndmrkTag_361141grade2\"><div class=\"m-srp-card__tuple__flex\"><div class=\"m-srp-card__tuple__item\"><span class=\"m-srp-card__tuple__icon m-srp-card__tuple__icon--19202\"></span>7.3 Km from Thirumangalam Metro Station </div><div class=\"m-srp-card__tuple__item\"><span class=\"m-srp-card__tuple__icon m-srp-card__tuple__icon--19201\"></span>1.8 Km from Commerzone </div><div class=\"m-srp-card__tuple__item\"><span class=\"m-srp-card__tuple__icon m-srp-card__tuple__icon--19210\"></span>5.8 Km from Koyambedu Metro Station </div></div></div>, <div class=\"m-srp-card__tuple\" id=\"lndmrkTag_361145grade2\"><div class=\"m-srp-card__tuple__flex\"><div class=\"m-srp-card__tuple__item\"><span class=\"m-srp-card__tuple__icon m-srp-card__tuple__icon--19202\"></span>7.3 Km from Thirumangalam Metro Station </div><div class=\"m-srp-card__tuple__item\"><span class=\"m-srp-card__tuple__icon m-srp-card__tuple__icon--19201\"></span>1.8 Km from Commerzone </div><div class=\"m-srp-card__tuple__item\"><span class=\"m-srp-card__tuple__icon m-srp-card__tuple__icon--19210\"></span>5.8 Km from Koyambedu Metro Station </div></div></div>, <div class=\"m-srp-card__tuple\" id=\"lndmrkTag_354177grade2\"><div class=\"m-srp-card__tuple__flex\"><div class=\"m-srp-card__tuple__item\"><span class=\"m-srp-card__tuple__icon m-srp-card__tuple__icon--19202\"></span>28.7 Km from Thirumangalam Metro Station </div><div class=\"m-srp-card__tuple__item\"><span class=\"m-srp-card__tuple__icon m-srp-card__tuple__icon--19201\"></span>0.3 Km from Excelacom Technologies Private Limited </div><div class=\"m-srp-card__tuple__item\"><span class=\"m-srp-card__tuple__icon m-srp-card__tuple__icon--19210\"></span>14.2 Km from Keelkattalai Metro Station </div></div></div>, <div class=\"m-srp-card__tuple\" id=\"lndmrkTag_361271grade2\"><div class=\"m-srp-card__tuple__flex\"><div class=\"m-srp-card__tuple__item\"><span class=\"m-srp-card__tuple__icon m-srp-card__tuple__icon--19202\"></span>274.3 Km from Thirumangalam Metro Station </div><div class=\"m-srp-card__tuple__item\"><span class=\"m-srp-card__tuple__icon m-srp-card__tuple__icon--19201\"></span>233.3 Km from Anchemco Anand Llp </div><div class=\"m-srp-card__tuple__item\"><span class=\"m-srp-card__tuple__icon m-srp-card__tuple__icon--19210\"></span>261.9 Km from Krishna Nagar Metro Station </div></div></div>, <div class=\"m-srp-card__tuple\" id=\"lndmrkTag_361023grade2\"><div class=\"m-srp-card__tuple__flex\"><div class=\"m-srp-card__tuple__item\"><span class=\"m-srp-card__tuple__icon m-srp-card__tuple__icon--19202\"></span>5.1 Km from Thirumangalam Metro Station </div><div class=\"m-srp-card__tuple__item\"><span class=\"m-srp-card__tuple__icon m-srp-card__tuple__icon--19201\"></span>0.2 Km from Tcl Pvt Ltd </div><div class=\"m-srp-card__tuple__item\"><span class=\"m-srp-card__tuple__icon m-srp-card__tuple__icon--19210\"></span>1.3 Km from Ashok Nagar Metro Station </div></div></div>, <div class=\"m-srp-card__tuple\" id=\"lndmrkTag_361011grade2\"><div class=\"m-srp-card__tuple__flex\"><div class=\"m-srp-card__tuple__item\"><span class=\"m-srp-card__tuple__icon m-srp-card__tuple__icon--19202\"></span>1.7 Km from Thirumangalam Metro Station </div><div class=\"m-srp-card__tuple__item\"><span class=\"m-srp-card__tuple__icon m-srp-card__tuple__icon--19201\"></span>0.8 Km from Serve Technologies </div><div class=\"m-srp-card__tuple__item\"><span class=\"m-srp-card__tuple__icon m-srp-card__tuple__icon--19210\"></span>0.9 Km from CMBT Metro Station </div></div></div>, <div class=\"m-srp-card__tuple\" id=\"lndmrkTag_354361grade2\"><div class=\"m-srp-card__tuple__flex\"><div class=\"m-srp-card__tuple__item\"><span class=\"m-srp-card__tuple__icon m-srp-card__tuple__icon--19202\"></span>11.8 Km from Thirumangalam Metro Station </div><div class=\"m-srp-card__tuple__item\"><span class=\"m-srp-card__tuple__icon m-srp-card__tuple__icon--19201\"></span>0.1 Km from Tidel Park </div><div class=\"m-srp-card__tuple__item\"><span class=\"m-srp-card__tuple__icon m-srp-card__tuple__icon--19210\"></span>0.8 Km from Indra Nagar Metro Station </div></div></div>, <div class=\"m-srp-card__tuple\" id=\"lndmrkTag_345645grade2\"><div class=\"m-srp-card__tuple__flex\"><div class=\"m-srp-card__tuple__item\"><span class=\"m-srp-card__tuple__icon m-srp-card__tuple__icon--19202\"></span>44.4 Km from Thirumangalam Metro Station </div><div class=\"m-srp-card__tuple__item\"><span class=\"m-srp-card__tuple__icon m-srp-card__tuple__icon--19201\"></span>0.8 Km from Bmw India Pvt Ltd </div><div class=\"m-srp-card__tuple__item\"><span class=\"m-srp-card__tuple__icon m-srp-card__tuple__icon--19210\"></span>23.2 Km from Krishna Nagar Metro Station </div></div></div>, <div class=\"m-srp-card__tuple\" id=\"lndmrkTag_362435grade2\"><div class=\"m-srp-card__tuple__flex\"><div class=\"m-srp-card__tuple__item\"><span class=\"m-srp-card__tuple__icon m-srp-card__tuple__icon--19202\"></span>8.1 Km from Thirumangalam Metro Station </div><div class=\"m-srp-card__tuple__item\"><span class=\"m-srp-card__tuple__icon m-srp-card__tuple__icon--19201\"></span>0.5 Km from Barclays </div><div class=\"m-srp-card__tuple__item\"><span class=\"m-srp-card__tuple__icon m-srp-card__tuple__icon--19210\"></span>2.6 Km from Nanganallur Road Metro Station </div></div></div>, <div class=\"m-srp-card__tuple\" id=\"lndmrkTag_357343grade2\"><div class=\"m-srp-card__tuple__flex\"><div class=\"m-srp-card__tuple__item\"><span class=\"m-srp-card__tuple__icon m-srp-card__tuple__icon--19202\"></span>18.9 Km from Thirumangalam Metro Station </div><div class=\"m-srp-card__tuple__item\"><span class=\"m-srp-card__tuple__icon m-srp-card__tuple__icon--19201\"></span>0.5 Km from Capgemini </div><div class=\"m-srp-card__tuple__item\"><span class=\"m-srp-card__tuple__icon m-srp-card__tuple__icon--19210\"></span>5.9 Km from Keelkattalai Metro Station </div></div></div>, <div class=\"m-srp-card__tuple\" id=\"lndmrkTag_361955grade2\"><div class=\"m-srp-card__tuple__flex\"><div class=\"m-srp-card__tuple__item\"><span class=\"m-srp-card__tuple__icon m-srp-card__tuple__icon--19202\"></span>21.1 Km from Thirumangalam Metro Station </div><div class=\"m-srp-card__tuple__item\"><span class=\"m-srp-card__tuple__icon m-srp-card__tuple__icon--19201\"></span>0.1 Km from Qmax Test Equipments Pvt Ltd </div><div class=\"m-srp-card__tuple__item\"><span class=\"m-srp-card__tuple__icon m-srp-card__tuple__icon--19210\"></span>7.3 Km from Keelkattalai Metro Station </div></div></div>, <div class=\"m-srp-card__tuple\" id=\"lndmrkTag_353951grade2\"><div class=\"m-srp-card__tuple__flex\"><div class=\"m-srp-card__tuple__item\"><span class=\"m-srp-card__tuple__icon m-srp-card__tuple__icon--19202\"></span>7.5 Km from Thirumangalam Metro Station </div><div class=\"m-srp-card__tuple__item\"><span class=\"m-srp-card__tuple__icon m-srp-card__tuple__icon--19201\"></span>1.8 Km from Navin Wss Towers </div><div class=\"m-srp-card__tuple__item\"><span class=\"m-srp-card__tuple__icon m-srp-card__tuple__icon--19210\"></span>0.8 Km from Thousand Lights Metro Station </div></div></div>, <div class=\"m-srp-card__tuple\" id=\"lndmrkTag_346071grade2\"><div class=\"m-srp-card__tuple__flex\"><div class=\"m-srp-card__tuple__item\"><span class=\"m-srp-card__tuple__icon m-srp-card__tuple__icon--19202\"></span>7.4 Km from Thirumangalam Metro Station </div><div class=\"m-srp-card__tuple__item\"><span class=\"m-srp-card__tuple__icon m-srp-card__tuple__icon--19201\"></span>1.1 Km from Verizon India </div><div class=\"m-srp-card__tuple__item\"><span class=\"m-srp-card__tuple__icon m-srp-card__tuple__icon--19210\"></span>0.9 Km from Little Mount Metro Station </div></div></div>, <div class=\"m-srp-card__tuple\" id=\"lndmrkTag_351611grade2\"><div class=\"m-srp-card__tuple__flex\"><div class=\"m-srp-card__tuple__item\"><span class=\"m-srp-card__tuple__icon m-srp-card__tuple__icon--19202\"></span>7.7 Km from Thirumangalam Metro Station </div><div class=\"m-srp-card__tuple__item\"><span class=\"m-srp-card__tuple__icon m-srp-card__tuple__icon--19201\"></span>1.3 Km from Commerzone </div><div class=\"m-srp-card__tuple__item\"><span class=\"m-srp-card__tuple__icon m-srp-card__tuple__icon--19210\"></span>5.2 Km from Meenambakkam Metro Station </div></div></div>, <div class=\"m-srp-card__tuple\" id=\"lndmrkTag_294273grade2\"><div class=\"m-srp-card__tuple__flex\"><div class=\"m-srp-card__tuple__item\"><span class=\"m-srp-card__tuple__icon m-srp-card__tuple__icon--19202\"></span>6.2 Km from Thirumangalam Metro Station </div><div class=\"m-srp-card__tuple__item\"><span class=\"m-srp-card__tuple__icon m-srp-card__tuple__icon--19201\"></span>1.0 Km from Olx.in </div><div class=\"m-srp-card__tuple__item\"><span class=\"m-srp-card__tuple__icon m-srp-card__tuple__icon--19210\"></span>0.6 Km from Thousand Lights Metro Station </div></div></div>, <div class=\"m-srp-card__tuple\" id=\"lndmrkTag_334945grade2\"><div class=\"m-srp-card__tuple__flex\"><div class=\"m-srp-card__tuple__item\"><span class=\"m-srp-card__tuple__icon m-srp-card__tuple__icon--19202\"></span>2.8 Km from Thirumangalam Metro Station </div><div class=\"m-srp-card__tuple__item\"><span class=\"m-srp-card__tuple__icon m-srp-card__tuple__icon--19201\"></span>0.6 Km from Valvi Infotech </div><div class=\"m-srp-card__tuple__item\"><span class=\"m-srp-card__tuple__icon m-srp-card__tuple__icon--19210\"></span>0.1 Km from Shenoy Nagar Metro Station </div></div></div>, <div class=\"m-srp-card__tuple\" id=\"lndmrkTag_109634grade2\"><div class=\"m-srp-card__tuple__flex\"><div class=\"m-srp-card__tuple__item\"><span class=\"m-srp-card__tuple__icon m-srp-card__tuple__icon--19202\"></span>6.0 Km from Thirumangalam Metro Station </div><div class=\"m-srp-card__tuple__item\"><span class=\"m-srp-card__tuple__icon m-srp-card__tuple__icon--19201\"></span>2.5 Km from Navin Wss Towers </div><div class=\"m-srp-card__tuple__item\"><span class=\"m-srp-card__tuple__icon m-srp-card__tuple__icon--19210\"></span>0.7 Km from Nehru Park Metro Station </div></div></div>, <div class=\"m-srp-card__tuple\" id=\"lndmrkTag_353071grade2\"><div class=\"m-srp-card__tuple__flex\"><div class=\"m-srp-card__tuple__item\"><span class=\"m-srp-card__tuple__icon m-srp-card__tuple__icon--19202\"></span>2.7 Km from Thirumangalam Metro Station </div><div class=\"m-srp-card__tuple__item\"><span class=\"m-srp-card__tuple__icon m-srp-card__tuple__icon--19201\"></span>0.7 Km from Britannia </div><div class=\"m-srp-card__tuple__item\"><span class=\"m-srp-card__tuple__icon m-srp-card__tuple__icon--19210\"></span>2.7 Km from Thirumangalam Metro Station </div></div></div>, <div class=\"m-srp-card__tuple\" id=\"lndmrkTag_363809grade2\"><div class=\"m-srp-card__tuple__flex\"><div class=\"m-srp-card__tuple__item\"><span class=\"m-srp-card__tuple__icon m-srp-card__tuple__icon--19202\"></span>13.4 Km from Thirumangalam Metro Station </div><div class=\"m-srp-card__tuple__item\"><span class=\"m-srp-card__tuple__icon m-srp-card__tuple__icon--19201\"></span>0.9 Km from Anand It Park </div><div class=\"m-srp-card__tuple__item\"><span class=\"m-srp-card__tuple__icon m-srp-card__tuple__icon--19210\"></span>1.3 Km from Taramani Metro Station </div></div></div>, <div class=\"m-srp-card__tuple\" id=\"lndmrkTag_270761grade2\"><div class=\"m-srp-card__tuple__flex\"><div class=\"m-srp-card__tuple__item\"><span class=\"m-srp-card__tuple__icon m-srp-card__tuple__icon--19202\"></span>7.3 Km from Thirumangalam Metro Station </div><div class=\"m-srp-card__tuple__item\"><span class=\"m-srp-card__tuple__icon m-srp-card__tuple__icon--19201\"></span>1.8 Km from Commerzone </div><div class=\"m-srp-card__tuple__item\"><span class=\"m-srp-card__tuple__icon m-srp-card__tuple__icon--19210\"></span>5.8 Km from Koyambedu Metro Station </div></div></div>, <div class=\"m-srp-card__tuple\" id=\"lndmrkTag_364779grade2\"><div class=\"m-srp-card__tuple__flex\"><div class=\"m-srp-card__tuple__item\"><span class=\"m-srp-card__tuple__icon m-srp-card__tuple__icon--19202\"></span>7.5 Km from Thirumangalam Metro Station </div><div class=\"m-srp-card__tuple__item\"><span class=\"m-srp-card__tuple__icon m-srp-card__tuple__icon--19201\"></span>1.9 Km from Commerzone </div><div class=\"m-srp-card__tuple__item\"><span class=\"m-srp-card__tuple__icon m-srp-card__tuple__icon--19210\"></span>5.9 Km from Meenambakkam Metro Station </div></div></div>, <div class=\"m-srp-card__tuple\" id=\"lndmrkTag_334953grade2\"><div class=\"m-srp-card__tuple__flex\"><div class=\"m-srp-card__tuple__item\"><span class=\"m-srp-card__tuple__icon m-srp-card__tuple__icon--19202\"></span>7.1 Km from Thirumangalam Metro Station </div><div class=\"m-srp-card__tuple__item\"><span class=\"m-srp-card__tuple__icon m-srp-card__tuple__icon--19201\"></span>0.4 Km from Tamilnadu Industrial Investment Corp Ltd. </div><div class=\"m-srp-card__tuple__item\"><span class=\"m-srp-card__tuple__icon m-srp-card__tuple__icon--19210\"></span>0.7 Km from Saidapet Metro Station </div></div></div>, <div class=\"m-srp-card__tuple\" id=\"lndmrkTag_331411grade2\"><div class=\"m-srp-card__tuple__flex\"><div class=\"m-srp-card__tuple__item\"><span class=\"m-srp-card__tuple__icon m-srp-card__tuple__icon--19202\"></span>3.1 Km from Thirumangalam Metro Station </div><div class=\"m-srp-card__tuple__item\"><span class=\"m-srp-card__tuple__icon m-srp-card__tuple__icon--19201\"></span>1.4 Km from IT Park </div><div class=\"m-srp-card__tuple__item\"><span class=\"m-srp-card__tuple__icon m-srp-card__tuple__icon--19210\"></span>2.2 Km from Koyambedu Metro Station </div></div></div>, <div class=\"m-srp-card__tuple\" id=\"lndmrkTag_331705grade2\"><div class=\"m-srp-card__tuple__flex\"><div class=\"m-srp-card__tuple__item\"><span class=\"m-srp-card__tuple__icon m-srp-card__tuple__icon--19202\"></span>2.0 Km from Thirumangalam Metro Station </div><div class=\"m-srp-card__tuple__item\"><span class=\"m-srp-card__tuple__icon m-srp-card__tuple__icon--19201\"></span>0.4 Km from Britannia </div><div class=\"m-srp-card__tuple__item\"><span class=\"m-srp-card__tuple__icon m-srp-card__tuple__icon--19210\"></span>2.0 Km from Thirumangalam Metro Station </div></div></div>, <div class=\"m-srp-card__tuple\" id=\"lndmrkTag_333125grade2\"><div class=\"m-srp-card__tuple__flex\"><div class=\"m-srp-card__tuple__item\"><span class=\"m-srp-card__tuple__icon m-srp-card__tuple__icon--19202\"></span>3.0 Km from Thirumangalam Metro Station </div><div class=\"m-srp-card__tuple__item\"><span class=\"m-srp-card__tuple__icon m-srp-card__tuple__icon--19201\"></span>0.5 Km from Valvi Infotech </div><div class=\"m-srp-card__tuple__item\"><span class=\"m-srp-card__tuple__icon m-srp-card__tuple__icon--19210\"></span>0.9 Km from Shenoy Metro Station </div></div></div>]\n"
     ]
    }
   ],
   "source": [
    "import time\n",
    "from selenium import webdriver\n",
    "from bs4 import BeautifulSoup\n",
    "import pandas as pd\n",
    "\n",
    "# URL of the page to scrape\n",
    "url = \"https://www.magicbricks.com/pg-in-chennai-pppfr\"\n",
    "\n",
    "# Initialize a webdriver object and load the page\n",
    "driver = webdriver.Chrome()\n",
    "driver.get(url)\n",
    "\n",
    "# Wait for the page to fully load (you can adjust the sleep time as needed)\n",
    "time.sleep(5)\n",
    "\n",
    "# Get the HTML content of the page after it has loaded dynamically\n",
    "html = driver.execute_script(\"return document.documentElement.outerHTML\")\n",
    "\n",
    "# Close the webdriver\n",
    "driver.quit()\n",
    "\n",
    "# Parse the HTML content using Beautiful Soup\n",
    "soup = BeautifulSoup(html, 'html.parser')\n",
    "\n",
    "# Find all the Paying Guest items on the page\n",
    "pg_items = soup.find_all('div', {'class': \"m-srp-card__tuple\"})\n",
    "\n",
    "print(pg_items)"
   ]
  },
  {
   "cell_type": "code",
   "execution_count": 11,
   "id": "886ac733",
   "metadata": {},
   "outputs": [
    {
     "ename": "TimeoutException",
     "evalue": "Message: script timeout\n  (Session info: chrome=113.0.5672.93)\nStacktrace:\nBacktrace:\n\tGetHandleVerifier [0x00818893+48451]\n\t(No symbol) [0x007AB8A1]\n\t(No symbol) [0x006B4F20]\n\t(No symbol) [0x0070CE03]\n\t(No symbol) [0x006FA2BC]\n\t(No symbol) [0x0070C482]\n\t(No symbol) [0x006FA0B6]\n\t(No symbol) [0x006D7E08]\n\t(No symbol) [0x006D8F2D]\n\tGetHandleVerifier [0x00A78E3A+2540266]\n\tGetHandleVerifier [0x00AB8959+2801161]\n\tGetHandleVerifier [0x00AB295C+2776588]\n\tGetHandleVerifier [0x008A2280+612144]\n\t(No symbol) [0x007B4F6C]\n\t(No symbol) [0x007B11D8]\n\t(No symbol) [0x007B12BB]\n\t(No symbol) [0x007A4857]\n\tBaseThreadInitThunk [0x766F7D69+25]\n\tRtlInitializeExceptionChain [0x77A0BB9B+107]\n\tRtlClearBits [0x77A0BB1F+191]\n",
     "output_type": "error",
     "traceback": [
      "\u001b[1;31m---------------------------------------------------------------------------\u001b[0m",
      "\u001b[1;31mTimeoutException\u001b[0m                          Traceback (most recent call last)",
      "Input \u001b[1;32mIn [11]\u001b[0m, in \u001b[0;36m<cell line: 41>\u001b[1;34m()\u001b[0m\n\u001b[0;32m     49\u001b[0m pg_items \u001b[38;5;241m+\u001b[39m\u001b[38;5;241m=\u001b[39m soup\u001b[38;5;241m.\u001b[39mfind_all(\u001b[38;5;124m'\u001b[39m\u001b[38;5;124mdiv\u001b[39m\u001b[38;5;124m'\u001b[39m, {\u001b[38;5;124m'\u001b[39m\u001b[38;5;124mclass\u001b[39m\u001b[38;5;124m'\u001b[39m: \u001b[38;5;124m\"\u001b[39m\u001b[38;5;124mm-srp-card__tuple\u001b[39m\u001b[38;5;124m\"\u001b[39m})\n\u001b[0;32m     51\u001b[0m \u001b[38;5;66;03m# Check if new content has been added to the page\u001b[39;00m\n\u001b[1;32m---> 52\u001b[0m prev_height \u001b[38;5;241m=\u001b[39m \u001b[43mdriver\u001b[49m\u001b[38;5;241;43m.\u001b[39;49m\u001b[43mexecute_script\u001b[49m\u001b[43m(\u001b[49m\u001b[38;5;124;43m\"\u001b[39;49m\u001b[38;5;124;43mreturn document.body.scrollHeight\u001b[39;49m\u001b[38;5;124;43m\"\u001b[39;49m\u001b[43m)\u001b[49m\n\u001b[0;32m     53\u001b[0m driver\u001b[38;5;241m.\u001b[39mexecute_script(\u001b[38;5;124m\"\u001b[39m\u001b[38;5;124mwindow.scrollTo(0, document.body.scrollHeight);\u001b[39m\u001b[38;5;124m\"\u001b[39m)\n\u001b[0;32m     54\u001b[0m time\u001b[38;5;241m.\u001b[39msleep(\u001b[38;5;241m5\u001b[39m)\n",
      "File \u001b[1;32m~\\anaconda3\\lib\\site-packages\\selenium\\webdriver\\remote\\webdriver.py:500\u001b[0m, in \u001b[0;36mWebDriver.execute_script\u001b[1;34m(self, script, *args)\u001b[0m\n\u001b[0;32m    497\u001b[0m converted_args \u001b[38;5;241m=\u001b[39m \u001b[38;5;28mlist\u001b[39m(args)\n\u001b[0;32m    498\u001b[0m command \u001b[38;5;241m=\u001b[39m Command\u001b[38;5;241m.\u001b[39mW3C_EXECUTE_SCRIPT\n\u001b[1;32m--> 500\u001b[0m \u001b[38;5;28;01mreturn\u001b[39;00m \u001b[38;5;28;43mself\u001b[39;49m\u001b[38;5;241;43m.\u001b[39;49m\u001b[43mexecute\u001b[49m\u001b[43m(\u001b[49m\u001b[43mcommand\u001b[49m\u001b[43m,\u001b[49m\u001b[43m \u001b[49m\u001b[43m{\u001b[49m\u001b[38;5;124;43m\"\u001b[39;49m\u001b[38;5;124;43mscript\u001b[39;49m\u001b[38;5;124;43m\"\u001b[39;49m\u001b[43m:\u001b[49m\u001b[43m \u001b[49m\u001b[43mscript\u001b[49m\u001b[43m,\u001b[49m\u001b[43m \u001b[49m\u001b[38;5;124;43m\"\u001b[39;49m\u001b[38;5;124;43margs\u001b[39;49m\u001b[38;5;124;43m\"\u001b[39;49m\u001b[43m:\u001b[49m\u001b[43m \u001b[49m\u001b[43mconverted_args\u001b[49m\u001b[43m}\u001b[49m\u001b[43m)\u001b[49m[\u001b[38;5;124m\"\u001b[39m\u001b[38;5;124mvalue\u001b[39m\u001b[38;5;124m\"\u001b[39m]\n",
      "File \u001b[1;32m~\\anaconda3\\lib\\site-packages\\selenium\\webdriver\\remote\\webdriver.py:440\u001b[0m, in \u001b[0;36mWebDriver.execute\u001b[1;34m(self, driver_command, params)\u001b[0m\n\u001b[0;32m    438\u001b[0m response \u001b[38;5;241m=\u001b[39m \u001b[38;5;28mself\u001b[39m\u001b[38;5;241m.\u001b[39mcommand_executor\u001b[38;5;241m.\u001b[39mexecute(driver_command, params)\n\u001b[0;32m    439\u001b[0m \u001b[38;5;28;01mif\u001b[39;00m response:\n\u001b[1;32m--> 440\u001b[0m     \u001b[38;5;28;43mself\u001b[39;49m\u001b[38;5;241;43m.\u001b[39;49m\u001b[43merror_handler\u001b[49m\u001b[38;5;241;43m.\u001b[39;49m\u001b[43mcheck_response\u001b[49m\u001b[43m(\u001b[49m\u001b[43mresponse\u001b[49m\u001b[43m)\u001b[49m\n\u001b[0;32m    441\u001b[0m     response[\u001b[38;5;124m\"\u001b[39m\u001b[38;5;124mvalue\u001b[39m\u001b[38;5;124m\"\u001b[39m] \u001b[38;5;241m=\u001b[39m \u001b[38;5;28mself\u001b[39m\u001b[38;5;241m.\u001b[39m_unwrap_value(response\u001b[38;5;241m.\u001b[39mget(\u001b[38;5;124m\"\u001b[39m\u001b[38;5;124mvalue\u001b[39m\u001b[38;5;124m\"\u001b[39m, \u001b[38;5;28;01mNone\u001b[39;00m))\n\u001b[0;32m    442\u001b[0m     \u001b[38;5;28;01mreturn\u001b[39;00m response\n",
      "File \u001b[1;32m~\\anaconda3\\lib\\site-packages\\selenium\\webdriver\\remote\\errorhandler.py:245\u001b[0m, in \u001b[0;36mErrorHandler.check_response\u001b[1;34m(self, response)\u001b[0m\n\u001b[0;32m    243\u001b[0m         alert_text \u001b[38;5;241m=\u001b[39m value[\u001b[38;5;124m\"\u001b[39m\u001b[38;5;124malert\u001b[39m\u001b[38;5;124m\"\u001b[39m]\u001b[38;5;241m.\u001b[39mget(\u001b[38;5;124m\"\u001b[39m\u001b[38;5;124mtext\u001b[39m\u001b[38;5;124m\"\u001b[39m)\n\u001b[0;32m    244\u001b[0m     \u001b[38;5;28;01mraise\u001b[39;00m exception_class(message, screen, stacktrace, alert_text)  \u001b[38;5;66;03m# type: ignore[call-arg]  # mypy is not smart enough here\u001b[39;00m\n\u001b[1;32m--> 245\u001b[0m \u001b[38;5;28;01mraise\u001b[39;00m exception_class(message, screen, stacktrace)\n",
      "\u001b[1;31mTimeoutException\u001b[0m: Message: script timeout\n  (Session info: chrome=113.0.5672.93)\nStacktrace:\nBacktrace:\n\tGetHandleVerifier [0x00818893+48451]\n\t(No symbol) [0x007AB8A1]\n\t(No symbol) [0x006B4F20]\n\t(No symbol) [0x0070CE03]\n\t(No symbol) [0x006FA2BC]\n\t(No symbol) [0x0070C482]\n\t(No symbol) [0x006FA0B6]\n\t(No symbol) [0x006D7E08]\n\t(No symbol) [0x006D8F2D]\n\tGetHandleVerifier [0x00A78E3A+2540266]\n\tGetHandleVerifier [0x00AB8959+2801161]\n\tGetHandleVerifier [0x00AB295C+2776588]\n\tGetHandleVerifier [0x008A2280+612144]\n\t(No symbol) [0x007B4F6C]\n\t(No symbol) [0x007B11D8]\n\t(No symbol) [0x007B12BB]\n\t(No symbol) [0x007A4857]\n\tBaseThreadInitThunk [0x766F7D69+25]\n\tRtlInitializeExceptionChain [0x77A0BB9B+107]\n\tRtlClearBits [0x77A0BB1F+191]\n"
     ]
    }
   ],
   "source": [
    "import time\n",
    "from selenium import webdriver\n",
    "from selenium.webdriver.common.by import By\n",
    "from selenium.webdriver.support.ui import WebDriverWait\n",
    "from selenium.webdriver.support import expected_conditions as EC\n",
    "from bs4 import BeautifulSoup\n",
    "import pandas as pd\n",
    "\n",
    "# URL of the page to scrape\n",
    "#url = \"https://www.magicbricks.com/pg-in-chennai-pppfr\"\n",
    "\n",
    "# Initialize a webdriver object and load the page\n",
    "driver = webdriver.Chrome()\n",
    "driver.get(url)\n",
    "\n",
    "# Wait for the page to fully load (you can adjust the sleep time as needed)\n",
    "time.sleep(2)\n",
    "\n",
    "# Check if there is a \"Load More\" button on the page\n",
    "load_more_button = driver.find_elements(By.XPATH, \"//*[@id='projectMiddleMainWrap']/div[9]/span/a[2]\")\n",
    "\n",
    "# If a \"Load More\" button is present, click it to load additional content\n",
    "if len(load_more_button) > 0:\n",
    "    load_more_button[0].click()\n",
    "    time.sleep(2)\n",
    "\n",
    "# Scroll down to the bottom of the page to load additional content\n",
    "driver.execute_script(\"window.scrollTo(0, document.body.scrollHeight);\")\n",
    "time.sleep(2)\n",
    "\n",
    "# Initialize a BeautifulSoup object with the current HTML content\n",
    "html = driver.page_source\n",
    "soup = BeautifulSoup(html, 'html.parser')\n",
    "\n",
    "# Find all the Paying Guest items on the page\n",
    "pg_items = soup.find_all('div', {'class': \"m-srp-card__tuple\"})\n",
    "\n",
    "# Keep scrolling down the page and scraping content until we reach the end\n",
    "while True:\n",
    "    # Scroll down to the bottom of the page to load additional content\n",
    "    driver.execute_script(\"window.scrollTo(0, document.body.scrollHeight);\")\n",
    "    time.sleep(2)\n",
    "\n",
    "    # Initialize a BeautifulSoup object with the current HTML content\n",
    "    html = driver.page_source\n",
    "    soup = BeautifulSoup(html, 'html.parser')\n",
    "\n",
    "    # Find all the Paying Guest items on the page\n",
    "    pg_items += soup.find_all('div', {'class': \"m-srp-card__tuple\"})\n",
    "\n",
    "    # Check if new content has been added to the page\n",
    "    prev_height = driver.execute_script(\"return document.body.scrollHeight\")\n",
    "    driver.execute_script(\"window.scrollTo(0, document.body.scrollHeight);\")\n",
    "    time.sleep(5)\n",
    "    new_height = driver.execute_script(\"return document.body.scrollHeight\")\n",
    "    if new_height == prev_height:\n",
    "        break\n",
    "\n",
    "\n",
    "# Close the webdriver\n",
    "driver.quit()\n",
    "\n",
    "# Print the number of Paying Guest items found on the page\n",
    "print(f\"Number of PG items found: {len(pg_items)}\")"
   ]
  },
  {
   "cell_type": "code",
   "execution_count": 13,
   "id": "ceca2762",
   "metadata": {},
   "outputs": [
    {
     "data": {
      "text/plain": [
       "994"
      ]
     },
     "execution_count": 13,
     "metadata": {},
     "output_type": "execute_result"
    }
   ],
   "source": [
    "len(pg_items)"
   ]
  },
  {
   "cell_type": "code",
   "execution_count": 20,
   "id": "6a1e3c70",
   "metadata": {
    "scrolled": false
   },
   "outputs": [
    {
     "data": {
      "text/plain": [
       "bs4.element.ResultSet"
      ]
     },
     "execution_count": 20,
     "metadata": {},
     "output_type": "execute_result"
    }
   ],
   "source": [
    "type(pg_items)"
   ]
  },
  {
   "cell_type": "code",
   "execution_count": 38,
   "id": "a37f3da0",
   "metadata": {
    "scrolled": true
   },
   "outputs": [
    {
     "data": {
      "text/html": [
       "<div>\n",
       "<style scoped>\n",
       "    .dataframe tbody tr th:only-of-type {\n",
       "        vertical-align: middle;\n",
       "    }\n",
       "\n",
       "    .dataframe tbody tr th {\n",
       "        vertical-align: top;\n",
       "    }\n",
       "\n",
       "    .dataframe thead th {\n",
       "        text-align: right;\n",
       "    }\n",
       "</style>\n",
       "<table border=\"1\" class=\"dataframe\">\n",
       "  <thead>\n",
       "    <tr style=\"text-align: right;\">\n",
       "      <th></th>\n",
       "      <th>Distance</th>\n",
       "      <th>Landmark</th>\n",
       "      <th>Metro Station</th>\n",
       "    </tr>\n",
       "  </thead>\n",
       "  <tbody>\n",
       "    <tr>\n",
       "      <th>0</th>\n",
       "      <td>1.8 Km from Thirumangalam Metro Station</td>\n",
       "      <td>0.7 Km from Serve Technologies</td>\n",
       "      <td>0.8 Km from CMBT Metro Station</td>\n",
       "    </tr>\n",
       "    <tr>\n",
       "      <th>1</th>\n",
       "      <td>10.8 Km from Thirumangalam Metro Station</td>\n",
       "      <td>1.7 Km from Stigmata Techno Solutions Llp</td>\n",
       "      <td>0.9 Km from St Thomas Mount Metro Station</td>\n",
       "    </tr>\n",
       "    <tr>\n",
       "      <th>2</th>\n",
       "      <td>9.3 Km from Thirumangalam Metro Station</td>\n",
       "      <td>0.9 Km from Indiaglitz.com</td>\n",
       "      <td>0.9 Km from Mannadi Metro Station</td>\n",
       "    </tr>\n",
       "    <tr>\n",
       "      <th>3</th>\n",
       "      <td>1.0 Km from Thirumangalam Metro Station</td>\n",
       "      <td>0.7 Km from Palmtree Corporate</td>\n",
       "      <td>0.4 Km from Anna Nagar Tower Metro Station</td>\n",
       "    </tr>\n",
       "    <tr>\n",
       "      <th>4</th>\n",
       "      <td>31.5 Km from Thirumangalam Metro Station</td>\n",
       "      <td>1.1 Km from Altek Beissel Needles Limited</td>\n",
       "      <td>16.8 Km from Keelkattalai Metro Station</td>\n",
       "    </tr>\n",
       "    <tr>\n",
       "      <th>...</th>\n",
       "      <td>...</td>\n",
       "      <td>...</td>\n",
       "      <td>...</td>\n",
       "    </tr>\n",
       "    <tr>\n",
       "      <th>989</th>\n",
       "      <td>32.9 Km from Thirumangalam Metro Station</td>\n",
       "      <td>0.3 Km from Fourrts India Laboratories Pvt Ltd</td>\n",
       "      <td>18.1 Km from Keelkattalai Metro Station</td>\n",
       "    </tr>\n",
       "    <tr>\n",
       "      <th>990</th>\n",
       "      <td>31.3 Km from Thirumangalam Metro Station</td>\n",
       "      <td>1.4 Km from Altek Beissel Needles Limited</td>\n",
       "      <td>16.7 Km from Keelkattalai Metro Station</td>\n",
       "    </tr>\n",
       "    <tr>\n",
       "      <th>991</th>\n",
       "      <td>20.8 Km from Thirumangalam Metro Station</td>\n",
       "      <td>0.8 Km from Royal Enfield Headquarters</td>\n",
       "      <td>7.7 Km from Keelkattalai Metro Station</td>\n",
       "    </tr>\n",
       "    <tr>\n",
       "      <th>992</th>\n",
       "      <td>7.3 Km from Thirumangalam Metro Station</td>\n",
       "      <td>1.8 Km from Commerzone</td>\n",
       "      <td>5.8 Km from Koyambedu Metro Station</td>\n",
       "    </tr>\n",
       "    <tr>\n",
       "      <th>993</th>\n",
       "      <td>13.3 Km from Thirumangalam Metro Station</td>\n",
       "      <td>1.0 Km from Rexip Technology Solutions</td>\n",
       "      <td>2.3 Km from Chennai International Airport Metr...</td>\n",
       "    </tr>\n",
       "  </tbody>\n",
       "</table>\n",
       "<p>994 rows × 3 columns</p>\n",
       "</div>"
      ],
      "text/plain": [
       "                                     Distance  \\\n",
       "0     1.8 Km from Thirumangalam Metro Station   \n",
       "1    10.8 Km from Thirumangalam Metro Station   \n",
       "2     9.3 Km from Thirumangalam Metro Station   \n",
       "3     1.0 Km from Thirumangalam Metro Station   \n",
       "4    31.5 Km from Thirumangalam Metro Station   \n",
       "..                                        ...   \n",
       "989  32.9 Km from Thirumangalam Metro Station   \n",
       "990  31.3 Km from Thirumangalam Metro Station   \n",
       "991  20.8 Km from Thirumangalam Metro Station   \n",
       "992   7.3 Km from Thirumangalam Metro Station   \n",
       "993  13.3 Km from Thirumangalam Metro Station   \n",
       "\n",
       "                                           Landmark  \\\n",
       "0                    0.7 Km from Serve Technologies   \n",
       "1         1.7 Km from Stigmata Techno Solutions Llp   \n",
       "2                        0.9 Km from Indiaglitz.com   \n",
       "3                    0.7 Km from Palmtree Corporate   \n",
       "4         1.1 Km from Altek Beissel Needles Limited   \n",
       "..                                              ...   \n",
       "989  0.3 Km from Fourrts India Laboratories Pvt Ltd   \n",
       "990       1.4 Km from Altek Beissel Needles Limited   \n",
       "991          0.8 Km from Royal Enfield Headquarters   \n",
       "992                          1.8 Km from Commerzone   \n",
       "993          1.0 Km from Rexip Technology Solutions   \n",
       "\n",
       "                                         Metro Station  \n",
       "0                       0.8 Km from CMBT Metro Station  \n",
       "1            0.9 Km from St Thomas Mount Metro Station  \n",
       "2                    0.9 Km from Mannadi Metro Station  \n",
       "3           0.4 Km from Anna Nagar Tower Metro Station  \n",
       "4              16.8 Km from Keelkattalai Metro Station  \n",
       "..                                                 ...  \n",
       "989            18.1 Km from Keelkattalai Metro Station  \n",
       "990            16.7 Km from Keelkattalai Metro Station  \n",
       "991             7.7 Km from Keelkattalai Metro Station  \n",
       "992                5.8 Km from Koyambedu Metro Station  \n",
       "993  2.3 Km from Chennai International Airport Metr...  \n",
       "\n",
       "[994 rows x 3 columns]"
      ]
     },
     "execution_count": 38,
     "metadata": {},
     "output_type": "execute_result"
    }
   ],
   "source": [
    "from bs4 import BeautifulSoup\n",
    "import pandas as pd\n",
    "\n",
    "# Parse the HTML extract using BeautifulSoup\n",
    "soup = BeautifulSoup(str(pg_items), 'html.parser')\n",
    "\n",
    "# Find all the div elements with class m-srp-card__tuple\n",
    "tuples = soup.find_all('div', {'class': 'm-srp-card__tuple'})\n",
    "\n",
    "# Create empty lists for each field\n",
    "distances = []\n",
    "landmarks = []\n",
    "metro_stations = []\n",
    "\n",
    "# Loop through the tuples and extract the details\n",
    "for t in tuples:\n",
    "    # Find all the div elements with class m-srp-card__tuple__item\n",
    "    items = t.find_all('div', {'class': 'm-srp-card__tuple__item'})\n",
    "\n",
    "    # Extract the distance information from the first item\n",
    "    distance = items[0].text.strip()\n",
    "\n",
    "    # Extract the landmark information from the second item\n",
    "    landmark = items[1].text.strip()\n",
    "\n",
    "    # Extract the metro station information from the third item\n",
    "    metro_station = items[2].text.strip()\n",
    "\n",
    "    # Append the extracted values to the corresponding lists\n",
    "    distances.append(distance)\n",
    "    landmarks.append(landmark)\n",
    "    metro_stations.append(metro_station)\n",
    "\n",
    "# Create a Pandas DataFrame from the lists\n",
    "df = pd.DataFrame({\n",
    "    'Distance': distances,\n",
    "    'Landmark': landmarks,\n",
    "    'Metro Station': metro_stations\n",
    "})\n",
    "\n",
    "df"
   ]
  },
  {
   "cell_type": "code",
   "execution_count": 54,
   "id": "8034b406",
   "metadata": {},
   "outputs": [
    {
     "data": {
      "text/plain": [
       "0"
      ]
     },
     "execution_count": 54,
     "metadata": {},
     "output_type": "execute_result"
    }
   ],
   "source": [
    "df['Metro Station'].isnull().sum()"
   ]
  },
  {
   "cell_type": "code",
   "execution_count": 44,
   "id": "10864607",
   "metadata": {
    "scrolled": true
   },
   "outputs": [
    {
     "data": {
      "text/plain": [
       "984                0.7 Km from Indra Nagar Metro Station\n",
       "985                0.5 Km from Ashok Nagar Metro Station\n",
       "986               2.6 Km from Keelkattalai Metro Station\n",
       "987               7.3 Km from Keelkattalai Metro Station\n",
       "988      0.8 Km from Pachaiyappa's College Metro Station\n",
       "989              18.1 Km from Keelkattalai Metro Station\n",
       "990              16.7 Km from Keelkattalai Metro Station\n",
       "991               7.7 Km from Keelkattalai Metro Station\n",
       "992                  5.8 Km from Koyambedu Metro Station\n",
       "993    2.3 Km from Chennai International Airport Metr...\n",
       "dtype: object"
      ]
     },
     "execution_count": 44,
     "metadata": {},
     "output_type": "execute_result"
    }
   ],
   "source": [
    "vertical_concat = pd.concat([df['Distance'], df['Metro Station']])\n",
    "vertical_concat.tail(10)"
   ]
  },
  {
   "cell_type": "code",
   "execution_count": 60,
   "id": "8d6530ee",
   "metadata": {},
   "outputs": [],
   "source": [
    "fd = pd.DataFrame(columns=['Dist_from_nearest_metro'])"
   ]
  },
  {
   "cell_type": "code",
   "execution_count": 61,
   "id": "02df7965",
   "metadata": {},
   "outputs": [],
   "source": [
    "\n",
    "\n",
    "# Vertically join the two columns\n",
    "new_col = pd.concat([df['Distance'], df['Metro Station']], axis=0, ignore_index=True)\n",
    "\n",
    "# add new column to original DataFrame\n",
    "fd['Dist_from_nearest_metro'] = new_col\n"
   ]
  },
  {
   "cell_type": "code",
   "execution_count": 68,
   "id": "cb1dad0a",
   "metadata": {},
   "outputs": [],
   "source": [
    "fd.to_csv(\"fd.csv\")\n"
   ]
  },
  {
   "cell_type": "code",
   "execution_count": 69,
   "id": "84742953",
   "metadata": {
    "scrolled": true
   },
   "outputs": [],
   "source": [
    "fd=pd.read_csv(r'fd.csv')"
   ]
  },
  {
   "cell_type": "code",
   "execution_count": null,
   "id": "346abe50",
   "metadata": {},
   "outputs": [],
   "source": [
    "df['Dist_from_nearest_metro'] = np.random.choice(fd['Dist_from_nearest_metro'], size=len(df), replace=True)"
   ]
  },
  {
   "cell_type": "code",
   "execution_count": null,
   "id": "717fd7c9",
   "metadata": {},
   "outputs": [],
   "source": []
  },
  {
   "cell_type": "code",
   "execution_count": null,
   "id": "bb49e965",
   "metadata": {},
   "outputs": [],
   "source": [
    "df.to_csv('expandedmagic.csv')"
   ]
  },
  {
   "cell_type": "code",
   "execution_count": null,
   "id": "1f95e67d",
   "metadata": {},
   "outputs": [],
   "source": [
    "notice_period = np.random.randint(low=12, high=49, size=len(df))\n",
    "\n",
    "# add new column to existing df\n",
    "df['notice_period'] = notice_period"
   ]
  },
  {
   "cell_type": "code",
   "execution_count": null,
   "id": "26b4396b",
   "metadata": {},
   "outputs": [],
   "source": [
    "df['col2'] = np.random.choice([0, 1], size=len(df), p=[0.65, 0.35])"
   ]
  },
  {
   "cell_type": "code",
   "execution_count": null,
   "id": "3b6ac322",
   "metadata": {},
   "outputs": [],
   "source": []
  }
 ],
 "metadata": {
  "kernelspec": {
   "display_name": "Python 3 (ipykernel)",
   "language": "python",
   "name": "python3"
  },
  "language_info": {
   "codemirror_mode": {
    "name": "ipython",
    "version": 3
   },
   "file_extension": ".py",
   "mimetype": "text/x-python",
   "name": "python",
   "nbconvert_exporter": "python",
   "pygments_lexer": "ipython3",
   "version": "3.9.12"
  },
  "varInspector": {
   "cols": {
    "lenName": 16,
    "lenType": 16,
    "lenVar": 40
   },
   "kernels_config": {
    "python": {
     "delete_cmd_postfix": "",
     "delete_cmd_prefix": "del ",
     "library": "var_list.py",
     "varRefreshCmd": "print(var_dic_list())"
    },
    "r": {
     "delete_cmd_postfix": ") ",
     "delete_cmd_prefix": "rm(",
     "library": "var_list.r",
     "varRefreshCmd": "cat(var_dic_list()) "
    }
   },
   "types_to_exclude": [
    "module",
    "function",
    "builtin_function_or_method",
    "instance",
    "_Feature"
   ],
   "window_display": false
  }
 },
 "nbformat": 4,
 "nbformat_minor": 5
}
